{
 "cells": [
  {
   "cell_type": "code",
   "execution_count": 120,
   "metadata": {},
   "outputs": [],
   "source": [
    "from typing import List\n",
    "import numpy as np\n",
    "from copy import deepcopy"
   ]
  },
  {
   "cell_type": "code",
   "execution_count": 121,
   "metadata": {},
   "outputs": [],
   "source": [
    "class MyTuple:\n",
    "    def __init__(self, *args):\n",
    "        self.data = tuple(args)\n",
    "\n",
    "    def __lt__(self, other):\n",
    "        if isinstance(other, MyTuple) and len(self.data) == len(other.data):\n",
    "            return all(x < y for x, y in zip(self.data, other.data))\n",
    "        return NotImplemented\n",
    "\n",
    "    def __le__(self, other):\n",
    "        if isinstance(other, MyTuple) and len(self.data) == len(other.data):\n",
    "            return all(x <= y for x, y in zip(self.data, other.data))\n",
    "        return NotImplemented\n",
    "\n",
    "    def __gt__(self, other):\n",
    "        if isinstance(other, MyTuple) and len(self.data) == len(other.data):\n",
    "            return all(x > y for x, y in zip(self.data, other.data))\n",
    "        return NotImplemented\n",
    "\n",
    "    def __ge__(self, other):\n",
    "        if isinstance(other, MyTuple) and len(self.data) == len(other.data):\n",
    "            return all(x >= y for x, y in zip(self.data, other.data))\n",
    "        return NotImplemented\n",
    "\n",
    "    def __eq__(self, other):\n",
    "        if isinstance(other, MyTuple) and len(self.data) == len(other.data):\n",
    "            return all(x == y for x, y in zip(self.data, other.data))\n",
    "        return NotImplemented\n",
    "\n",
    "    def __ne__(self, other):\n",
    "        if isinstance(other, MyTuple) and len(self.data) == len(other.data):\n",
    "            return any(x != y for x, y in zip(self.data, other.data))\n",
    "        return NotImplemented\n",
    "    \n",
    "    def __repr__(self) -> str:\n",
    "        return f\"{self.data}\""
   ]
  },
  {
   "cell_type": "code",
   "execution_count": 122,
   "metadata": {},
   "outputs": [
    {
     "name": "stdout",
     "output_type": "stream",
     "text": [
      "[(3, 3), (1, 8), (4, 1)]\n"
     ]
    }
   ],
   "source": [
    "X = [(5, 5), (3, 6), (4,4), (5,3), (3,3), \n",
    "     (1,8), (3,4), (4,5), (3,10), (6,6), (4, 1), (3, 5)]\n",
    "\n",
    "def naive_without_filtration(X: List[int]) -> List[int]:\n",
    "    X_copy = deepcopy([MyTuple(*element) if not isinstance(element, MyTuple) else element for element in X])\n",
    "    \n",
    "    P = []\n",
    "    i = 0\n",
    "    while i < len(X_copy):\n",
    "        Y = X_copy[i]\n",
    "        fl = 0\n",
    "        j = i + 1\n",
    "        while j < len(X_copy):\n",
    "            if Y <= X_copy[j]:\n",
    "                del X_copy[j] \n",
    "            elif X_copy[j] <= Y and X_copy[j] <= Y:\n",
    "                Y = X_copy[j]\n",
    "                fl = 1\n",
    "                del X_copy[i]\n",
    "            else:\n",
    "                j += 1\n",
    "        if Y not in P:\n",
    "            P.append(Y)\n",
    "        \n",
    "        if fl == 0:\n",
    "            del X_copy[i]\n",
    "        else:\n",
    "            i += 1\n",
    "    return P\n",
    "\n",
    "print(naive_without_filtration(X))"
   ]
  },
  {
   "cell_type": "code",
   "execution_count": 123,
   "metadata": {},
   "outputs": [
    {
     "name": "stdout",
     "output_type": "stream",
     "text": [
      "((3, 3), (4, 1), (1, 8))\n"
     ]
    }
   ],
   "source": [
    "X = [(5, 5), (3, 6), (4,4), (5,3), (3,3), \n",
    "     (1,8), (3,4), (4,5), (3,10), (6,6), (4, 1), (3, 5)]\n",
    "\n",
    "def ideal_point_algorithm(X: list) -> list:\n",
    "    X_copy = deepcopy(X)\n",
    "    P = []\n",
    "    \n",
    "    X_copy = np.array(X_copy)\n",
    "    \n",
    "    xmin = np.min(X_copy, axis=0)\n",
    "    \n",
    "    d = [np.sum((xmin - X_copy[j]) ** 2) for j in range(len(X_copy))]\n",
    "    \n",
    "    sorted_indices = np.argsort(d)\n",
    "    \n",
    "    remaining_points = X_copy[sorted_indices].tolist()\n",
    "    \n",
    "    while remaining_points:\n",
    "        current_point = remaining_points.pop(0)\n",
    "        \n",
    "        P.append(current_point)\n",
    "        \n",
    "        remaining_points = [\n",
    "            point for point in remaining_points \n",
    "            if not all(np.array(current_point) <= np.array(point))\n",
    "        ]\n",
    "    \n",
    "    return tuple(map(tuple, P))\n",
    "\n",
    "P_I = ideal_point_algorithm(X)\n",
    "print(P_I)"
   ]
  },
  {
   "cell_type": "code",
   "execution_count": null,
   "metadata": {},
   "outputs": [
    {
     "name": "stdout",
     "output_type": "stream",
     "text": [
      "[(3, 3), (4, 1), (1, 8)]\n"
     ]
    }
   ],
   "source": [
    "X = [(5, 5), (3, 6), (4,4), (5,3), (3,3), \n",
    "     (1,8), (3,4), (4,5), (3,10), (6,6), (4, 1), (3, 5)]\n",
    "\n",
    "def filtracja_punktow_zdominowanych(X):\n",
    "    X_copy = deepcopy([MyTuple(*element) if not isinstance(element, MyTuple) else element for element in X])\n",
    "        \n",
    "    P = [] \n",
    "    i = 0\n",
    "    while i < len(X_copy):\n",
    "        Y = X_copy[i]\n",
    "        j = i + 1\n",
    "        while j < len(X_copy):\n",
    "            if Y <= X_copy[j]:\n",
    "                X_copy.pop(j) \n",
    "            elif X_copy[j] <= Y:\n",
    "                X_copy.pop(i)\n",
    "                if i > j:\n",
    "                    Y = X_copy[j]\n",
    "                else:\n",
    "                    Y = X_copy[j - 1]\n",
    "                    j -= 1\n",
    "            j += 1\n",
    "        P.append(Y)\n",
    "    \n",
    "        X_copy = [point for point in X_copy if not (Y <= point)]\n",
    "        if len(X_copy) == 1:\n",
    "            P.append(X_copy[0])\n",
    "            break\n",
    "        i += 1\n",
    "    return P\n",
    "\n",
    "print(filtracja_punktow_zdominowanych(X))"
   ]
  }
 ],
 "metadata": {
  "kernelspec": {
   "display_name": "Python 3",
   "language": "python",
   "name": "python3"
  },
  "language_info": {
   "codemirror_mode": {
    "name": "ipython",
    "version": 3
   },
   "file_extension": ".py",
   "mimetype": "text/x-python",
   "name": "python",
   "nbconvert_exporter": "python",
   "pygments_lexer": "ipython3",
   "version": "3.9.19"
  }
 },
 "nbformat": 4,
 "nbformat_minor": 2
}
