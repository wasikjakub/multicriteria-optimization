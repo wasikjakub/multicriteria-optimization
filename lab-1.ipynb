{
 "cells": [
  {
   "cell_type": "code",
   "execution_count": 10,
   "metadata": {},
   "outputs": [],
   "source": [
    "from typing import List\n",
    "import numpy as np"
   ]
  },
  {
   "cell_type": "code",
   "execution_count": 11,
   "metadata": {},
   "outputs": [],
   "source": [
    "def naive_without_filtration(X: List[int]) -> List[int]:\n",
    "    P = []\n",
    "    i = 0\n",
    "    while i < len(X):\n",
    "        Y = X[i]\n",
    "        fl = 0\n",
    "        j = i + 1\n",
    "        while j < len(X):\n",
    "            if Y[0] <= X[j][0] and Y[1] <= X[j][1]:\n",
    "                del X[j] \n",
    "            elif X[j][0] <= Y[0] and X[j][1] <= Y[1]:\n",
    "                Y = X[j]\n",
    "                fl = 1\n",
    "                del X[i]\n",
    "            else:\n",
    "                j += 1\n",
    "        if Y not in P:\n",
    "            P.append(Y)\n",
    "        \n",
    "        if fl == 0:\n",
    "            del X[i]\n",
    "        else:\n",
    "            i += 1\n",
    "    return P"
   ]
  },
  {
   "cell_type": "code",
   "execution_count": 27,
   "metadata": {},
   "outputs": [
    {
     "name": "stdout",
     "output_type": "stream",
     "text": [
      "[(3, 3), (1, 8), (4, 1)]\n"
     ]
    }
   ],
   "source": [
    "X = [(5, 5), (3, 6), (4,4), (5,3), (3,3), \n",
    "     (1,8), (3,4), (4,5), (3,10), (6,6), (4, 1), (3, 5)]\n",
    "\n",
    "P = naive_without_filtration(X)\n",
    "print(P)"
   ]
  },
  {
   "cell_type": "code",
   "execution_count": 33,
   "metadata": {},
   "outputs": [
    {
     "name": "stdout",
     "output_type": "stream",
     "text": [
      "[[3, 3], [4, 1], [1, 8]]\n"
     ]
    }
   ],
   "source": [
    "import numpy as np\n",
    "\n",
    "def ideal_point_algorithm(X: list) -> list:\n",
    "    P = []\n",
    "    \n",
    "    X = np.array(X)\n",
    "    \n",
    "    xmin = np.min(X, axis=0)\n",
    "    \n",
    "    d = [np.sum((xmin - X[j]) ** 2) for j in range(len(X))]\n",
    "    \n",
    "    sorted_indices = np.argsort(d)\n",
    "    \n",
    "    remaining_points = X[sorted_indices].tolist()\n",
    "    \n",
    "    while remaining_points:\n",
    "        current_point = remaining_points.pop(0)\n",
    "        \n",
    "        P.append(current_point)\n",
    "        \n",
    "        remaining_points = [\n",
    "            point for point in remaining_points \n",
    "            if not all(np.array(current_point) <= np.array(point))\n",
    "        ]\n",
    "    \n",
    "    return P\n",
    "\n",
    "P_I = ideal_point_algorithm(X)\n",
    "print(P_I)"
   ]
  },
  {
   "cell_type": "code",
   "execution_count": 34,
   "metadata": {},
   "outputs": [],
   "source": [
    "class MyTuple:\n",
    "    def __init__(self, *args):\n",
    "        self.data = tuple(args)\n",
    "\n",
    "    def __lt__(self, other):\n",
    "        if isinstance(other, MyTuple) and len(self.data) == len(other.data):\n",
    "            return all(x < y for x, y in zip(self.data, other.data))\n",
    "        return NotImplemented\n",
    "\n",
    "    def __le__(self, other):\n",
    "        if isinstance(other, MyTuple) and len(self.data) == len(other.data):\n",
    "            return all(x <= y for x, y in zip(self.data, other.data))\n",
    "        return NotImplemented\n",
    "\n",
    "    def __gt__(self, other):\n",
    "        if isinstance(other, MyTuple) and len(self.data) == len(other.data):\n",
    "            return all(x > y for x, y in zip(self.data, other.data))\n",
    "        return NotImplemented\n",
    "\n",
    "    def __ge__(self, other):\n",
    "        if isinstance(other, MyTuple) and len(self.data) == len(other.data):\n",
    "            return all(x >= y for x, y in zip(self.data, other.data))\n",
    "        return NotImplemented\n",
    "\n",
    "    def __eq__(self, other):\n",
    "        if isinstance(other, MyTuple) and len(self.data) == len(other.data):\n",
    "            return all(x == y for x, y in zip(self.data, other.data))\n",
    "        return NotImplemented\n",
    "\n",
    "    def __ne__(self, other):\n",
    "        if isinstance(other, MyTuple) and len(self.data) == len(other.data):\n",
    "            return any(x != y for x, y in zip(self.data, other.data))\n",
    "        return NotImplemented\n",
    "    \n",
    "    def __repr__(self) -> str:\n",
    "        return f\"{self.data}\""
   ]
  },
  {
   "cell_type": "code",
   "execution_count": 35,
   "metadata": {},
   "outputs": [],
   "source": [
    "def filtracja_punktow_zdominowanych(X):\n",
    "    P = [] \n",
    "    i = 0\n",
    "    while i < len(X):\n",
    "        Y = X[i]\n",
    "        j = i + 1\n",
    "        while j < len(X):\n",
    "            if Y <= X[j]:\n",
    "                X.pop(j) \n",
    "            elif X[j] <= Y:\n",
    "                X.pop(i)\n",
    "                Y = X[j]\n",
    "            else:\n",
    "                j += 1\n",
    "        P.append(Y)\n",
    "    \n",
    "        X = [point for point in X if not (Y <= point)]\n",
    "        if len(X) == 1:\n",
    "            P.append(X[0])\n",
    "            break\n",
    "        i += 1\n",
    "    return P"
   ]
  },
  {
   "cell_type": "code",
   "execution_count": 36,
   "metadata": {},
   "outputs": [
    {
     "data": {
      "text/plain": [
       "[(1, 8), (3, 3), (4, 1)]"
      ]
     },
     "execution_count": 36,
     "metadata": {},
     "output_type": "execute_result"
    }
   ],
   "source": [
    "X = [MyTuple(5,5), MyTuple(3,6), MyTuple(4,4), MyTuple(5,3), MyTuple(3,3),\n",
    "MyTuple(1,8), MyTuple(3,4), MyTuple(4,5), MyTuple(3,10), MyTuple(6,6), MyTuple(4, 1), MyTuple(3, 5)] \n",
    "filtracja_punktow_zdominowanych(X)"
   ]
  }
 ],
 "metadata": {
  "kernelspec": {
   "display_name": "Python 3",
   "language": "python",
   "name": "python3"
  },
  "language_info": {
   "codemirror_mode": {
    "name": "ipython",
    "version": 3
   },
   "file_extension": ".py",
   "mimetype": "text/x-python",
   "name": "python",
   "nbconvert_exporter": "python",
   "pygments_lexer": "ipython3",
   "version": "3.9.19"
  }
 },
 "nbformat": 4,
 "nbformat_minor": 2
}
