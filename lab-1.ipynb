{
 "cells": [
  {
   "cell_type": "code",
   "execution_count": 54,
   "metadata": {},
   "outputs": [],
   "source": [
    "from typing import List"
   ]
  },
  {
   "cell_type": "code",
   "execution_count": 70,
   "metadata": {},
   "outputs": [],
   "source": [
    "def naive_without_filtration(X: List[int]) -> List[int]:\n",
    "    P = []\n",
    "    i = 0\n",
    "    while i < len(X):\n",
    "        Y = X[i]\n",
    "        fl = 0\n",
    "        j = i + 1\n",
    "        while j < len(X):\n",
    "            if Y[0] <= X[j][0] and Y[1] <= X[j][1]:\n",
    "                del X[j] \n",
    "            elif X[j][0] <= Y[0] and X[j][1] <= Y[1]:\n",
    "                Y = X[j]\n",
    "                fl = 1\n",
    "                del X[i]\n",
    "            else:\n",
    "                j += 1\n",
    "        if Y not in P:\n",
    "            P.append(Y)\n",
    "        \n",
    "        if fl == 0:\n",
    "            del X[i]\n",
    "        else:\n",
    "            i += 1\n",
    "    return P"
   ]
  },
  {
   "cell_type": "code",
   "execution_count": 71,
   "metadata": {},
   "outputs": [
    {
     "name": "stdout",
     "output_type": "stream",
     "text": [
      "[(3, 3), (1, 8), (4, 1)]\n"
     ]
    }
   ],
   "source": [
    "# Example\n",
    "X = [(5, 5), (3, 6), (4,4), (5,3), (3,3), \n",
    "     (1,8), (3,4), (4,5), (3,10), (6,6), (4, 1), (3, 5)]\n",
    "\n",
    "P = naive_without_filtration(X)\n",
    "print(P)"
   ]
  },
  {
   "cell_type": "code",
   "execution_count": 20,
   "metadata": {},
   "outputs": [
    {
     "name": "stdout",
     "output_type": "stream",
     "text": [
      "True\n"
     ]
    }
   ],
   "source": [
    "print((5, 5) > (3, 6))"
   ]
  }
 ],
 "metadata": {
  "kernelspec": {
   "display_name": "Python 3",
   "language": "python",
   "name": "python3"
  },
  "language_info": {
   "codemirror_mode": {
    "name": "ipython",
    "version": 3
   },
   "file_extension": ".py",
   "mimetype": "text/x-python",
   "name": "python",
   "nbconvert_exporter": "python",
   "pygments_lexer": "ipython3",
   "version": "3.9.19"
  }
 },
 "nbformat": 4,
 "nbformat_minor": 2
}
