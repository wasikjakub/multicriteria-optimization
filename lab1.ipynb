{
 "cells": [
  {
   "cell_type": "markdown",
   "metadata": {},
   "source": [
    "Algorytm z filtracją punktów zdominowanych"
   ]
  },
  {
   "cell_type": "code",
   "execution_count": 38,
   "metadata": {},
   "outputs": [],
   "source": [
    "class MyTuple:\n",
    "    def __init__(self, *args):\n",
    "        self.data = tuple(args)\n",
    "\n",
    "    def __lt__(self, other):\n",
    "        if isinstance(other, MyTuple) and len(self.data) == len(other.data):\n",
    "            return all(x < y for x, y in zip(self.data, other.data))\n",
    "        return NotImplemented\n",
    "\n",
    "    def __le__(self, other):\n",
    "        if isinstance(other, MyTuple) and len(self.data) == len(other.data):\n",
    "            return all(x <= y for x, y in zip(self.data, other.data))\n",
    "        return NotImplemented\n",
    "\n",
    "    def __gt__(self, other):\n",
    "        if isinstance(other, MyTuple) and len(self.data) == len(other.data):\n",
    "            return all(x > y for x, y in zip(self.data, other.data))\n",
    "        return NotImplemented\n",
    "\n",
    "    def __ge__(self, other):\n",
    "        if isinstance(other, MyTuple) and len(self.data) == len(other.data):\n",
    "            return all(x >= y for x, y in zip(self.data, other.data))\n",
    "        return NotImplemented\n",
    "\n",
    "    def __eq__(self, other):\n",
    "        if isinstance(other, MyTuple) and len(self.data) == len(other.data):\n",
    "            return all(x == y for x, y in zip(self.data, other.data))\n",
    "        return NotImplemented\n",
    "\n",
    "    def __ne__(self, other):\n",
    "        if isinstance(other, MyTuple) and len(self.data) == len(other.data):\n",
    "            return any(x != y for x, y in zip(self.data, other.data))\n",
    "        return NotImplemented\n",
    "    \n",
    "    def __repr__(self) -> str:\n",
    "        return f\"{self.data}\""
   ]
  },
  {
   "cell_type": "code",
   "execution_count": 2,
   "metadata": {},
   "outputs": [],
   "source": [
    "def filtracja_punktow_zdominowanych(X):\n",
    "    P = [] \n",
    "    i = 0\n",
    "    while i < len(X):\n",
    "        Y = X[i]\n",
    "        j = i + 1\n",
    "        while j < len(X):\n",
    "            if Y[0] <= X[j][0] and Y[1] <= X[j][1]:\n",
    "                X.pop(j) \n",
    "            elif X[j][0] <= Y[0] and X[j][1] <= Y[1]:\n",
    "                X.pop(i)\n",
    "                Y = X[j]\n",
    "            else:\n",
    "                j += 1\n",
    "        P.append(Y)\n",
    "    \n",
    "        X = [point for point in X if not (Y[0] <= point[0] and Y[1] <= point[1])]\n",
    "        if len(X) == 1:\n",
    "            P.append(X[0])\n",
    "            break\n",
    "        i += 1\n",
    "    return P"
   ]
  },
  {
   "cell_type": "code",
   "execution_count": 3,
   "metadata": {},
   "outputs": [
    {
     "data": {
      "text/plain": [
       "[(1, 8), (3, 3), (4, 1)]"
      ]
     },
     "execution_count": 3,
     "metadata": {},
     "output_type": "execute_result"
    }
   ],
   "source": [
    "X = [(5,5), (3,6), (4,4), (5,3), (3,3),\n",
    "(1,8), (3,4), (4,5), (3,10), (6,6), (4, 1), (3, 5)] \n",
    "filtracja_punktow_zdominowanych(X)"
   ]
  }
 ],
 "metadata": {
  "kernelspec": {
   "display_name": "Python 3",
   "language": "python",
   "name": "python3"
  },
  "language_info": {
   "codemirror_mode": {
    "name": "ipython",
    "version": 3
   },
   "file_extension": ".py",
   "mimetype": "text/x-python",
   "name": "python",
   "nbconvert_exporter": "python",
   "pygments_lexer": "ipython3",
   "version": "3.11.3"
  }
 },
 "nbformat": 4,
 "nbformat_minor": 2
}
